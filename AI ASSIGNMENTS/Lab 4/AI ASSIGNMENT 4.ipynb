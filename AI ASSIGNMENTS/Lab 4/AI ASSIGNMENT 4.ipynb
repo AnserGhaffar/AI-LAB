{
 "cells": [
  {
   "cell_type": "markdown",
   "metadata": {},
   "source": [
    "# NAME: ANSER GHAFFAR\n",
    "# ROLL NO: SU92-BSDSM-F23-032\n",
    "# SECTION: BSDS 3A\n",
    "# AI LAB ASSIGNMENT 4"
   ]
  },
  {
   "cell_type": "code",
   "execution_count": 1,
   "metadata": {},
   "outputs": [],
   "source": [
    "#Lab 4:\n",
    "#Task 1: Code for LUHN Algorithm \n",
    "#Task 2: Remove Punctuations from UserInput String (without using remove function)\n",
    "#Task 3: Sort text (word) in Alphabetical Order (without using sort function)"
   ]
  },
  {
   "cell_type": "code",
   "execution_count": 2,
   "metadata": {},
   "outputs": [],
   "source": [
    "def luhn_algorithm(card_number):\n",
    "    def digits_of(n):\n",
    "        return [int(digit) for digit in str(n)]\n",
    "    \n",
    "    digits = digits_of(card_number)\n",
    "    checksum = 0\n",
    "\n",
    "    odd_digits = digits[-1::-2] \n",
    "    even_digits = digits[-2::-2]  \n",
    "\n",
    "    checksum += sum(odd_digits)  \n",
    "\n",
    "    for d in even_digits:\n",
    "        checksum += sum(digits_of(d * 2))  \n",
    "\n",
    "    return checksum % 10 == 0"
   ]
  },
  {
   "cell_type": "code",
   "execution_count": 5,
   "metadata": {},
   "outputs": [
    {
     "name": "stdout",
     "output_type": "stream",
     "text": [
      "The card number 49927398716 is valid.\n"
     ]
    }
   ],
   "source": [
    "card_number = 49927398716\n",
    "if luhn_algorithm(card_number):\n",
    "    print(f\"The card number {card_number} is valid.\")\n",
    "else:\n",
    "    print(f\"The card number {card_number} is not valid.\")"
   ]
  },
  {
   "cell_type": "code",
   "execution_count": 6,
   "metadata": {},
   "outputs": [
    {
     "name": "stdout",
     "output_type": "stream",
     "text": [
      "The card number 49927398717 is not valid.\n"
     ]
    }
   ],
   "source": [
    "card_number = 49927398717\n",
    "if luhn_algorithm(card_number):\n",
    "    print(f\"The card number {card_number} is valid.\")\n",
    "else:\n",
    "    print(f\"The card number {card_number} is not valid.\")"
   ]
  },
  {
   "cell_type": "code",
   "execution_count": null,
   "metadata": {},
   "outputs": [],
   "source": []
  }
 ],
 "metadata": {
  "kernelspec": {
   "display_name": "Python 3",
   "language": "python",
   "name": "python3"
  },
  "language_info": {
   "codemirror_mode": {
    "name": "ipython",
    "version": 3
   },
   "file_extension": ".py",
   "mimetype": "text/x-python",
   "name": "python",
   "nbconvert_exporter": "python",
   "pygments_lexer": "ipython3",
   "version": "3.12.2"
  }
 },
 "nbformat": 4,
 "nbformat_minor": 2
}
