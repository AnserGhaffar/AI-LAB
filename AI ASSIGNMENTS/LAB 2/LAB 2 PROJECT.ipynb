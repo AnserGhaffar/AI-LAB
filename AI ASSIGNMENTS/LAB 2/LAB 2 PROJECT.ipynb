{
 "cells": [
  {
   "cell_type": "markdown",
   "metadata": {},
   "source": [
    "# NAME: ANSER GHAFFAR\n",
    "# ROLL NO: SU92-BSDSM-F23-032\n",
    "# SECTION: BSDS 3A\n",
    "# AI LAB ASSIGNMENT 2"
   ]
  },
  {
   "cell_type": "markdown",
   "metadata": {},
   "source": [
    "### QUESTION 1"
   ]
  },
  {
   "cell_type": "code",
   "execution_count": 1,
   "metadata": {},
   "outputs": [],
   "source": [
    "#MiniProject 1:\n",
    "#Today's project is actually a very common interview question, which revolves around a childhood counting game called Fizz Buzz.\n",
    "\n",
    "#In case you're not familiar with the game, it goes like this:\n",
    "\n",
    "#One player starts by saying the number 1.\n",
    "#Each player then takes it in turns to say the next number, counting one at a time.\n",
    "#If the number is divisible by 3, instead of saying the number, the player should say, \"Fizz\".\n",
    "#If the number is divisible by 5, instead of saying the number, the player should say, \"Buzz\".\n",
    "#If the number is divisible by 3and5, instead of saying the number, the player should say, \"Fizz Buzz\".\n",
    "#If you make a mistake, you're usually eliminated from the game, and the game continues until there's only a single player\n",
    "#remaining."
   ]
  },
  {
   "cell_type": "code",
   "execution_count": 7,
   "metadata": {},
   "outputs": [
    {
     "name": "stdout",
     "output_type": "stream",
     "text": [
      "Player 2 lost\n",
      "Player 1 won\n",
      "Player 2 lost\n",
      "Player 1 won\n"
     ]
    }
   ],
   "source": [
    "flag = True\n",
    "z = 0\n",
    "\n",
    "while flag == True:\n",
    "    p1 = int(input('Player 1, enter a number:'))\n",
    "    if p1 % 3 == 0 and p1 % 5 == 0:\n",
    "        word =input('Enter fizz, buzz or fizz buzz').lower().strip\n",
    "        if word == 'fizz':\n",
    "            print('Player 2 lost\\nPlayer 1 won')\n",
    "            flag = False\n",
    "        elif word == 'buzz':\n",
    "            print('Player 2 lost\\nPlayer 1 won')\n",
    "            flag = False\n",
    "\n",
    "    elif p1 % 3 == 0 and p1 % 5 != 0:\n",
    "        word = input('Enter fizz, buzz or fizz buzz').lower().strip()\n",
    "        if word == 'buzz':\n",
    "            print('Player 2 lost\\nPlayer 1 won')\n",
    "            flag = False\n",
    "        elif word == 'fizzbuzz':\n",
    "            print('Player 2 lost\\nPlayer 1 won')\n",
    "            flag == False\n",
    "\n",
    "    else:\n",
    "        word = input('Enter fizz, buzz or fizz buzz').lower().strip()\n",
    "        if word == 'fizz':\n",
    "            print('Player 2 lost\\nPlayer 1 won')\n",
    "            flag = False\n",
    "        elif word == 'fizzbuzz':\n",
    "            print('Player 2 lost\\nPlayer 1 won')\n",
    "            flag == False\n",
    "\n",
    "    p2 = int(input('Player 2, enter a number:'))\n",
    "    if p2 % 3 == 0 and p2 % 5 == 0:\n",
    "        word =input('Enter fizz, buzz or fizz buzz').lower().strip\n",
    "        if word == 'fizz':\n",
    "            print('Player 1 lost\\nPlayer 2 won')\n",
    "            flag = False\n",
    "        elif word == 'buzz':\n",
    "            print('Player 1 lost\\nPlayer 2 won')\n",
    "            flag = False\n",
    "\n",
    "    elif p2 % 3 == 0 and p2 % 5 != 0:\n",
    "        word = input('Enter fizz, buzz or fizz buzz').lower().strip()\n",
    "        if word == 'buzz':\n",
    "            print('Player 1 lost\\nPlayer 2 won')\n",
    "            flag = False\n",
    "        elif word == 'fizzbuzz':\n",
    "            print('Player 1 lost\\nPlayer 2 won')\n",
    "            flag == False\n",
    "\n",
    "    else:\n",
    "        word = input('Enter fizz, buzz or fizz buzz').lower().strip()\n",
    "        if word == 'fizz':\n",
    "            print('Player 2 lost\\nPlayer 1 won')\n",
    "            flag = False\n",
    "        elif word == 'fizzbuzz':\n",
    "            print('Player 2 lost\\nPlayer 1 won')\n",
    "            flag == False\n"
   ]
  },
  {
   "cell_type": "markdown",
   "metadata": {},
   "source": [
    "# QUESTION 2"
   ]
  },
  {
   "cell_type": "code",
   "execution_count": 2,
   "metadata": {},
   "outputs": [],
   "source": [
    "#MiniProject 2:\n",
    "#In particular we're going to find the average budget of the films in our data set, and we're going to identify high budget \n",
    "# films that exceed the average budget we calculate.\n",
    "\n",
    "#The brief\n",
    "#Below you'll find a list which contains the relevant data about a selection of movies. Each item in the list is a tuple \n",
    "# containing a movie name and movie budget in that order:\n",
    "\n",
    "#movies = [\n",
    "#    (\"Eternal Sunshine of the Spotless Mind\", 20000000),\n",
    "#    (\"Memento\", 9000000),\n",
    "#    (\"Requiem for a Dream\", 4500000),\n",
    "#    (\"Pirates of the Caribbean: On Stranger Tides\", 379000000),\n",
    "#    (\"Avengers: Age of Ultron\", 365000000),\n",
    "#    (\"Avengers: Endgame\", 356000000),\n",
    "#    (\"Incredibles 2\", 200000000)\n",
    "#]\n",
    "#For this project, your program should do the following:\n",
    "\n",
    "#Calculate the average budget of all movies in the data set.\n",
    "#Print out every movie that has a budget higher than the average you calculated. You should also print out how much higher \n",
    "# than the average the movie's budget was.\n",
    "#Print out how many movies spent more than the average you calculated.\n",
    "\n",
    "#If you want a little extra challenge, allow users to add more movies to the data set before running the calculations.\n",
    "#You can do this by asking the user how many movies they want to add, which will allow you to use a for loop and range to repeat\n",
    "#some code a given number of times. Inside the for loop, you can write some code that takes in some user input and appends a \n",
    "#movie tuple containing the collected data to the movie list."
   ]
  },
  {
   "cell_type": "code",
   "execution_count": 2,
   "metadata": {},
   "outputs": [],
   "source": [
    "movies = [\n",
    "   (\"Eternal Sunshine of the Spotless Mind\", 20000000),\n",
    "   (\"Memento\", 9000000),\n",
    "   (\"Requiem for a Dream\", 4500000),\n",
    "   (\"Pirates of the Caribbean: On Stranger Tides\", 379000000),\n",
    "   (\"Avengers: Age of Ultron\", 365000000),\n",
    "   (\"Avengers: Endgame\", 356000000),\n",
    "   (\"Incredibles 2\", 200000000)\n",
    "]"
   ]
  },
  {
   "cell_type": "code",
   "execution_count": 3,
   "metadata": {},
   "outputs": [
    {
     "name": "stdout",
     "output_type": "stream",
     "text": [
      "[('Eternal Sunshine of the Spotless Mind', 20000000), ('Memento', 9000000), ('Requiem for a Dream', 4500000), ('Pirates of the Caribbean: On Stranger Tides', 379000000), ('Avengers: Age of Ultron', 365000000), ('Avengers: Endgame', 356000000), ('Incredibles 2', 200000000), ('Fight Club', 4000000), ('Inception', 7000000)]\n"
     ]
    }
   ],
   "source": [
    "x = int(input('how many movies do you want to enter?'))\n",
    "for y in range(x):\n",
    "   movie_name = input('Enter the name of the movie:')\n",
    "   movie_budget = int(input('Enter the budget of the movie:'))\n",
    "   new_movie = (movie_name, movie_budget)\n",
    "   movies.append(new_movie)\n",
    "print(movies)"
   ]
  },
  {
   "cell_type": "code",
   "execution_count": 15,
   "metadata": {},
   "outputs": [
    {
     "name": "stdout",
     "output_type": "stream",
     "text": [
      "20000000\n",
      "9000000\n",
      "4500000\n",
      "379000000\n",
      "365000000\n",
      "356000000\n",
      "200000000\n",
      "123467\n",
      "Average budget: 166702933.375\n"
     ]
    }
   ],
   "source": [
    "avg = 0\n",
    "for movie in movies:\n",
    "   budget = movie[1]\n",
    "   avg += budget\n",
    "   print(budget)\n",
    "\n",
    "average_budget = avg/len(movies)\n",
    "print(f'Average budget: {average_budget}')"
   ]
  },
  {
   "cell_type": "code",
   "execution_count": 18,
   "metadata": {},
   "outputs": [
    {
     "name": "stdout",
     "output_type": "stream",
     "text": [
      "The budget of 'Pirates of the Caribbean: On Stranger Tides' is 212297066.625 more than the average budget.\n",
      "The budget of 'Avengers: Age of Ultron' is 198297066.625 more than the average budget.\n",
      "The budget of 'Avengers: Endgame' is 189297066.625 more than the average budget.\n",
      "The budget of 'Incredibles 2' is 33297066.625 more than the average budget.\n"
     ]
    }
   ],
   "source": [
    "for movie in movies:\n",
    "    budget = movie[1]\n",
    "    if budget > average_budget:\n",
    "        difference = budget - average_budget\n",
    "        print(f\"The budget of '{movie[0]}' is {difference:} more than the average budget.\")"
   ]
  },
  {
   "cell_type": "code",
   "execution_count": null,
   "metadata": {},
   "outputs": [],
   "source": []
  }
 ],
 "metadata": {
  "kernelspec": {
   "display_name": "Python 3",
   "language": "python",
   "name": "python3"
  },
  "language_info": {
   "codemirror_mode": {
    "name": "ipython",
    "version": 3
   },
   "file_extension": ".py",
   "mimetype": "text/x-python",
   "name": "python",
   "nbconvert_exporter": "python",
   "pygments_lexer": "ipython3",
   "version": "3.12.2"
  }
 },
 "nbformat": 4,
 "nbformat_minor": 2
}
