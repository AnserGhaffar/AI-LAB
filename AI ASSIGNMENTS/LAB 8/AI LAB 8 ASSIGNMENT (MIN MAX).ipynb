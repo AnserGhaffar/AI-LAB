{
 "cells": [
  {
   "cell_type": "markdown",
   "metadata": {},
   "source": [
    "# NAME: ANSER GHAFFAR\n",
    "# ROLL NO: SU92-BSDSM-F23-032\n",
    "# SECTION: BSDS 3A\n",
    "# AI LAB ASSIGNMENT 8"
   ]
  },
  {
   "cell_type": "code",
   "execution_count": 1,
   "metadata": {},
   "outputs": [
    {
     "name": "stdout",
     "output_type": "stream",
     "text": [
      "Optimal value: 5\n"
     ]
    }
   ],
   "source": [
    "\n",
    "def min_max(node, depth, is_maximizing_player):\n",
    "    if type(node) == int:\n",
    "        return node\n",
    "    \n",
    "    if is_maximizing_player:\n",
    "        best = -float('inf') \n",
    "        for child in node:\n",
    "            best = max(best, min_max(child, depth + 1, False))  \n",
    "        return best\n",
    "    else:\n",
    "        best = float('inf')  \n",
    "        for child in node:\n",
    "            best = min(best, min_max(child, depth + 1, True)) \n",
    "        return best\n",
    "\n",
    "tree = [\n",
    "    [\n",
    "        [3, 5],  \n",
    "        [2, 9]   \n",
    "    ]\n",
    "]\n",
    "\n",
    "result = min_max(tree, 0, True)\n",
    "\n",
    "print(\"Optimal value:\", result)"
   ]
  }
 ],
 "metadata": {
  "kernelspec": {
   "display_name": "Python 3",
   "language": "python",
   "name": "python3"
  },
  "language_info": {
   "codemirror_mode": {
    "name": "ipython",
    "version": 3
   },
   "file_extension": ".py",
   "mimetype": "text/x-python",
   "name": "python",
   "nbconvert_exporter": "python",
   "pygments_lexer": "ipython3",
   "version": "3.12.2"
  }
 },
 "nbformat": 4,
 "nbformat_minor": 2
}
