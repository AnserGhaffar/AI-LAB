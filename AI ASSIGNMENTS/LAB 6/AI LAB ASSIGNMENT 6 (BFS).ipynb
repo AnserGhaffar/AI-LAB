{
 "cells": [
  {
   "cell_type": "markdown",
   "metadata": {},
   "source": [
    "# NAME: ANSER GHAFFAR\n",
    "# ROLL NO: SU92-BSDSM-F23-032\n",
    "# SECTION: BSDS 3A\n",
    "# AI LAB ASSIGNMENT 6"
   ]
  },
  {
   "cell_type": "markdown",
   "metadata": {},
   "source": [
    "# TASK 1\n",
    "##  BFS without Queue & without Node"
   ]
  },
  {
   "cell_type": "code",
   "execution_count": 1,
   "metadata": {},
   "outputs": [],
   "source": [
    "def bfs(graph, start):\n",
    "    visited = set() \n",
    "    to_visit = [start]  \n",
    "\n",
    "    while to_visit:\n",
    "        current = to_visit.pop(0)  \n",
    "        \n",
    "        if current not in visited:\n",
    "            print(current, end=\" \")  \n",
    "            visited.add(current) \n",
    "            \n",
    "            for neighbor in graph[current]:\n",
    "                if neighbor not in visited:\n",
    "                    to_visit.append(neighbor)"
   ]
  },
  {
   "cell_type": "code",
   "execution_count": 2,
   "metadata": {},
   "outputs": [
    {
     "name": "stdout",
     "output_type": "stream",
     "text": [
      "BFS traversal:\n",
      "A B C D E F "
     ]
    }
   ],
   "source": [
    "graph = {\n",
    "    'A': ['B', 'C'],\n",
    "    'B': ['A', 'D', 'E'],\n",
    "    'C': ['A', 'F'],\n",
    "    'D': ['B'],\n",
    "    'E': ['B', 'F'],\n",
    "    'F': ['C', 'E']\n",
    "}\n",
    "\n",
    "print(\"BFS traversal:\")\n",
    "bfs(graph, 'A')"
   ]
  },
  {
   "cell_type": "markdown",
   "metadata": {},
   "source": [
    "# TASK 2\n",
    "##  BFS with Queue & Node"
   ]
  },
  {
   "cell_type": "code",
   "execution_count": 3,
   "metadata": {},
   "outputs": [],
   "source": [
    "from collections import deque\n",
    "\n",
    "class Node:\n",
    "    def __init__(self, value):\n",
    "        self.value = value\n",
    "        self.neighbors = []  \n",
    "\n",
    "\n",
    "def bfs_with_queue(start_node):\n",
    "    visited = set() \n",
    "    queue = deque([start_node]) \n",
    "\n",
    "    while queue:\n",
    "        current = queue.popleft()  \n",
    "        \n",
    "        if current not in visited:\n",
    "            print(current.value, end=\" \")  \n",
    "            visited.add(current)  \n",
    "            \n",
    "            for neighbor in current.neighbors:\n",
    "                if neighbor not in visited:\n",
    "                    queue.append(neighbor)"
   ]
  },
  {
   "cell_type": "code",
   "execution_count": 4,
   "metadata": {},
   "outputs": [
    {
     "name": "stdout",
     "output_type": "stream",
     "text": [
      "BFS traversal with queue and node:\n",
      "A B C D E F "
     ]
    }
   ],
   "source": [
    "a = Node('A')\n",
    "b = Node('B')\n",
    "c = Node('C')\n",
    "d = Node('D')\n",
    "e = Node('E')\n",
    "f = Node('F')\n",
    "\n",
    "a.neighbors = [b, c]\n",
    "b.neighbors = [a, d, e]\n",
    "c.neighbors = [a, f]\n",
    "d.neighbors = [b]\n",
    "e.neighbors = [b, f]\n",
    "f.neighbors = [c, e]\n",
    "\n",
    "print(\"BFS traversal with queue and node:\")\n",
    "bfs_with_queue(a)"
   ]
  },
  {
   "cell_type": "code",
   "execution_count": null,
   "metadata": {},
   "outputs": [],
   "source": []
  }
 ],
 "metadata": {
  "kernelspec": {
   "display_name": "Python 3",
   "language": "python",
   "name": "python3"
  },
  "language_info": {
   "codemirror_mode": {
    "name": "ipython",
    "version": 3
   },
   "file_extension": ".py",
   "mimetype": "text/x-python",
   "name": "python",
   "nbconvert_exporter": "python",
   "pygments_lexer": "ipython3",
   "version": "3.12.2"
  }
 },
 "nbformat": 4,
 "nbformat_minor": 2
}
