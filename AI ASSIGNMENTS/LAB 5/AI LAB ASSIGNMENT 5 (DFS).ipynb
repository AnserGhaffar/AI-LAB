{
 "cells": [
  {
   "cell_type": "markdown",
   "metadata": {},
   "source": [
    "# NAME: ANSER GHAFFAR\n",
    "# ROLL NO: SU92-BSDSM-F23-032\n",
    "# SECTION: BSDS 3A\n",
    "# AI LAB ASSIGNMENT 5"
   ]
  },
  {
   "cell_type": "markdown",
   "metadata": {},
   "source": [
    "# TASK 1 \n",
    "## DFS with Stack & Node"
   ]
  },
  {
   "cell_type": "code",
   "execution_count": 1,
   "metadata": {},
   "outputs": [],
   "source": [
    "class Node:\n",
    "    def __init__(self, value):\n",
    "        self.value = value\n",
    "        self.neighbors = []\n",
    "\n",
    "def dfs_stack(start_node):\n",
    "    visited = set() \n",
    "    stack = [start_node]  \n",
    "\n",
    "    while stack:\n",
    "        current = stack.pop()  \n",
    "        \n",
    "        if current not in visited:\n",
    "            print(current.value, end=\" \") \n",
    "            visited.add(current)  \n",
    "\n",
    "            for neighbor in reversed(current.neighbors):\n",
    "                if neighbor not in visited:\n",
    "                    stack.append(neighbor)"
   ]
  },
  {
   "cell_type": "code",
   "execution_count": 2,
   "metadata": {},
   "outputs": [
    {
     "name": "stdout",
     "output_type": "stream",
     "text": [
      "DFS traversal using stack:\n",
      "A B D E C F "
     ]
    }
   ],
   "source": [
    "a = Node('A')\n",
    "b = Node('B')\n",
    "c = Node('C')\n",
    "d = Node('D')\n",
    "e = Node('E')\n",
    "f = Node('F')\n",
    "\n",
    "a.neighbors = [b, c]\n",
    "b.neighbors = [d, e]\n",
    "c.neighbors = [f]\n",
    "\n",
    "print(\"DFS traversal using stack:\")\n",
    "dfs_stack(a)  "
   ]
  },
  {
   "cell_type": "markdown",
   "metadata": {},
   "source": [
    "# TASK 2\n",
    "## Research about \"Inorder, Preorder, Postorder\" and implement in DFS"
   ]
  },
  {
   "cell_type": "code",
   "execution_count": 3,
   "metadata": {},
   "outputs": [],
   "source": [
    "class Node:\n",
    "    def __init__(self, value):\n",
    "        self.value = value\n",
    "        self.left = None\n",
    "        self.right = None\n",
    "\n",
    "def preorder_traversal(root):\n",
    "    if root:\n",
    "        print(root.value, end=\" \")  \n",
    "        preorder_traversal(root.left)  \n",
    "        preorder_traversal(root.right) \n",
    "\n",
    "def inorder_traversal(root):\n",
    "    if root:\n",
    "        inorder_traversal(root.left)  \n",
    "        print(root.value, end=\" \") \n",
    "        inorder_traversal(root.right) \n",
    "\n",
    "def postorder_traversal(root):\n",
    "    if root:\n",
    "        postorder_traversal(root.left)  \n",
    "        postorder_traversal(root.right) \n",
    "        print(root.value, end=\" \")  "
   ]
  },
  {
   "cell_type": "code",
   "execution_count": 4,
   "metadata": {},
   "outputs": [
    {
     "name": "stdout",
     "output_type": "stream",
     "text": [
      "Preorder traversal:\n",
      "1 2 4 5 3 6 7 \n",
      "Inorder traversal:\n",
      "4 2 5 1 6 3 7 \n",
      "Postorder traversal:\n",
      "4 5 2 6 7 3 1 "
     ]
    }
   ],
   "source": [
    "root = Node(1)\n",
    "root.left = Node(2)\n",
    "root.right = Node(3)\n",
    "root.left.left = Node(4)\n",
    "root.left.right = Node(5)\n",
    "root.right.left = Node(6)\n",
    "root.right.right = Node(7)\n",
    "\n",
    "print(\"Preorder traversal:\")\n",
    "preorder_traversal(root)  \n",
    "print(\"\\nInorder traversal:\")\n",
    "inorder_traversal(root) \n",
    "print(\"\\nPostorder traversal:\")\n",
    "postorder_traversal(root)  "
   ]
  },
  {
   "cell_type": "code",
   "execution_count": null,
   "metadata": {},
   "outputs": [],
   "source": []
  }
 ],
 "metadata": {
  "kernelspec": {
   "display_name": "Python 3",
   "language": "python",
   "name": "python3"
  },
  "language_info": {
   "codemirror_mode": {
    "name": "ipython",
    "version": 3
   },
   "file_extension": ".py",
   "mimetype": "text/x-python",
   "name": "python",
   "nbconvert_exporter": "python",
   "pygments_lexer": "ipython3",
   "version": "3.12.2"
  }
 },
 "nbformat": 4,
 "nbformat_minor": 2
}
