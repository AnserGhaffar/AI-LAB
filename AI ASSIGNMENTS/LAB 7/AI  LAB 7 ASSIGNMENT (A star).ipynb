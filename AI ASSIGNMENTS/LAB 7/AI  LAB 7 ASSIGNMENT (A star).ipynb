{
 "cells": [
  {
   "cell_type": "markdown",
   "metadata": {},
   "source": [
    "# NAME: ANSER GHAFFAR\n",
    "# ROLL NO: SU92-BSDSM-F23-032\n",
    "# SECTION: BSDS 3A\n",
    "# AI LAB ASSIGNMENT 7"
   ]
  },
  {
   "cell_type": "code",
   "execution_count": 1,
   "metadata": {},
   "outputs": [],
   "source": [
    "grid = [\n",
    "    [0, 0, 0, 0, 0],\n",
    "    [0, 1, 1, 0, 0],\n",
    "    [0, 0, 0, 1, 0],\n",
    "    [0, 1, 0, 0, 0],\n",
    "    [0, 0, 0, 1, 0]\n",
    "]\n",
    "\n",
    "directions = [(-1, 0), (1, 0), (0, -1), (0, 1)] "
   ]
  },
  {
   "cell_type": "code",
   "execution_count": 2,
   "metadata": {},
   "outputs": [],
   "source": [
    "def heuristic(a, b):\n",
    "    \"\"\"Manhattan distance heuristic.\"\"\"\n",
    "    return abs(a[0] - b[0]) + abs(a[1] - b[1])\n",
    "\n",
    "def is_valid(x, y):\n",
    "    \"\"\"Check if the position is within bounds and not an obstacle.\"\"\"\n",
    "    return 0 <= x < len(grid) and 0 <= y < len(grid[0]) and grid[x][y] == 0\n",
    "\n",
    "def a_star(start, goal):\n",
    "    \"\"\"A* algorithm to find the shortest path from start to goal.\"\"\"\n",
    "    \n",
    "    open_list = [(start, 0, heuristic(start, goal))]  \n",
    "    \n",
    "    closed_list = set()\n",
    "    \n",
    "    came_from = {}\n",
    "    \n",
    "    g_values = {start: 0}  \n",
    "    \n",
    "    while open_list:\n",
    "        open_list.sort(key=lambda x: x[1] + x[2]) \n",
    "        current, g_current, _ = open_list.pop(0)  \n",
    "        \n",
    "        if current == goal:\n",
    "            path = []\n",
    "            while current in came_from:\n",
    "                path.append(current)\n",
    "                current = came_from[current]\n",
    "            path.append(start)\n",
    "            return path[::-1] \n",
    "        \n",
    "        closed_list.add(current)\n",
    "        \n",
    "        for dx, dy in directions:\n",
    "            neighbor = (current[0] + dx, current[1] + dy)\n",
    "            \n",
    "            if not is_valid(neighbor[0], neighbor[1]) or neighbor in closed_list:\n",
    "                continue \n",
    "            \n",
    "            tentative_g = g_current + 1  \n",
    "            \n",
    "            if neighbor not in g_values or tentative_g < g_values[neighbor]:\n",
    "                g_values[neighbor] = tentative_g\n",
    "                f_value = tentative_g + heuristic(neighbor, goal)\n",
    "                open_list.append((neighbor, tentative_g, heuristic(neighbor, goal)))\n",
    "                came_from[neighbor] = current\n",
    "    \n",
    "    return None  "
   ]
  },
  {
   "cell_type": "code",
   "execution_count": 3,
   "metadata": {},
   "outputs": [
    {
     "name": "stdout",
     "output_type": "stream",
     "text": [
      "Path found: [(0, 0), (1, 0), (2, 0), (2, 1), (2, 2), (3, 2), (3, 3), (3, 4), (4, 4)]\n"
     ]
    }
   ],
   "source": [
    "start = (0, 0)  \n",
    "goal = (4, 4)   \n",
    "\n",
    "path = a_star(start, goal)\n",
    "\n",
    "if path:\n",
    "    print(\"Path found:\", path)\n",
    "else:\n",
    "    print(\"No path found\")"
   ]
  },
  {
   "cell_type": "code",
   "execution_count": null,
   "metadata": {},
   "outputs": [],
   "source": []
  }
 ],
 "metadata": {
  "kernelspec": {
   "display_name": "Python 3",
   "language": "python",
   "name": "python3"
  },
  "language_info": {
   "codemirror_mode": {
    "name": "ipython",
    "version": 3
   },
   "file_extension": ".py",
   "mimetype": "text/x-python",
   "name": "python",
   "nbconvert_exporter": "python",
   "pygments_lexer": "ipython3",
   "version": "3.12.2"
  }
 },
 "nbformat": 4,
 "nbformat_minor": 2
}
